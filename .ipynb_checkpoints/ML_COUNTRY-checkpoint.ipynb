{
 "cells": [
  {
   "cell_type": "markdown",
   "metadata": {},
   "source": [
    "# ML Paises"
   ]
  },
  {
   "cell_type": "markdown",
   "metadata": {},
   "source": [
    "### Imports"
   ]
  },
  {
   "cell_type": "code",
   "execution_count": 1,
   "metadata": {},
   "outputs": [],
   "source": [
    "import pandas as pd\n",
    "import sklearn\n",
    "import numpy as np\n",
    "from sklearn.model_selection import StratifiedShuffleSplit\n",
    "from sklearn.model_selection import train_test_split\n",
    "import imblearn\n",
    "from imblearn.over_sampling import RandomOverSampler\n",
    "from imblearn.over_sampling import SMOTE\n",
    "from matplotlib import pyplot as plt\n",
    "%matplotlib inline\n",
    "from sklearn.feature_extraction.text import TfidfVectorizer\n",
    "import os\n",
    "import sys\n",
    "from io import StringIO\n",
    "import matplotlib.pyplot as plt\n",
    "from sklearn.feature_selection import chi2\n",
    "from sklearn.model_selection import train_test_split\n",
    "from sklearn.feature_extraction.text import CountVectorizer\n",
    "from sklearn.feature_extraction.text import TfidfTransformer\n",
    "from sklearn.naive_bayes import MultinomialNB\n",
    "from sklearn.linear_model import LogisticRegression\n",
    "from sklearn.ensemble import RandomForestClassifier\n",
    "from sklearn.svm import LinearSVC\n",
    "from sklearn.model_selection import cross_val_score\n",
    "import seaborn as sns\n",
    "from sklearn.metrics import confusion_matrix\n",
    "from sklearn import metrics\n",
    "from sklearn.calibration import CalibratedClassifierCV\n",
    "\n",
    "sys.path.append('../')\n",
    "\n",
    "import src.utils.File_Utils as files\n",
    "import src.utils.QC_methods as qc"
   ]
  },
  {
   "cell_type": "markdown",
   "metadata": {},
   "source": [
    "### Load CSV"
   ]
  },
  {
   "cell_type": "code",
   "execution_count": 2,
   "metadata": {},
   "outputs": [],
   "source": [
    "column_names = ['COURIER_ID', 'BOLETIM', 'P8', 'P8_MOTOR', 'P7', 'P7_MOTOR','P16', 'P16_MOTOR', 'P17', 'P17_MOTOR']"
   ]
  },
  {
   "cell_type": "code",
   "execution_count": 3,
   "metadata": {
    "scrolled": false
   },
   "outputs": [
    {
     "name": "stdout",
     "output_type": "stream",
     "text": [
      "        BOLETIM        P7   P7_MOTOR\n",
      "0      31355356       NaN        NaN\n",
      "1      31630772       NaN        NaN\n",
      "2      31102501       NaN        NaN\n",
      "3      31416342       NaN        NaN\n",
      "4      31359267       NaN        NaN\n",
      "5      31431398       NaN        NaN\n",
      "6      31431399       NaN        NaN\n",
      "7      31610202       NaN        NaN\n",
      "8      31352142       NaN          -\n",
      "9      31345404       NaN        NaN\n",
      "10     31431391       NaN        NaN\n",
      "11     10222417       NaN        NaN\n",
      "12     30893198       NaN        NaN\n",
      "13     10607093       NaN        NaN\n",
      "14     31352047       NaN        NaN\n",
      "15     31352047       NaN        NaN\n",
      "16     31625776       NaN        NaN\n",
      "17     31284353       NaN          ?\n",
      "18     22419635       NaN        NaN\n",
      "19     31345401       NaN        NaN\n",
      "20     22419945       NaN          I\n",
      "21     31359258       NaN        NaN\n",
      "22     31359261       NaN        NaN\n",
      "23     12895902       NaN          -\n",
      "24     31352012       NaN        NaN\n",
      "25     31352012       NaN        NaN\n",
      "26     31409912       NaN        NaN\n",
      "27     22419637       NaN        NaN\n",
      "28     10222415       NaN        NaN\n",
      "29     31273438       NaN        NaN\n",
      "...         ...       ...        ...\n",
      "99970  21647530       NaN        NaN\n",
      "99971  21647530       NaN        NaN\n",
      "99972  21631796       NaN        NaN\n",
      "99973  21631796       NaN        NaN\n",
      "99974  21631796       NaN        NaN\n",
      "99975  21631795       NaN        NaN\n",
      "99976  13075723       NaN        NaN\n",
      "99977  13075723       NaN        NaN\n",
      "99978  13075723       NaN        NaN\n",
      "99979  13075723       NaN        NaN\n",
      "99980  13075735       NaN        NaN\n",
      "99981  30214290  ZIMBABWE  ZI MBABWE\n",
      "99982  12729662       NaN        NaN\n",
      "99983  10009358       NaN          I\n",
      "99984  10374202       NaN        NaN\n",
      "99985  10374756       NaN        NaN\n",
      "99986  10374762       NaN        NaN\n",
      "99987  31035055  ZIMBABWE   ZIMBABWE\n",
      "99988  13025672       NaN        NaN\n",
      "99989  20337383       NaN          ?\n",
      "99990  20272691       NaN        NaN\n",
      "99991  31035079  ZIMBABWE   ZI?BABWE\n",
      "99992  20290817       NaN          -\n",
      "99993  20291776       NaN          -\n",
      "99994  21631795       NaN        NaN\n",
      "99995  21631795       NaN        NaN\n",
      "99996  13023695       NaN        NaN\n",
      "99997  13023695       NaN        NaN\n",
      "99998  13023695       NaN        NaN\n",
      "99999  21647529       NaN        NaN\n",
      "\n",
      "[100000 rows x 3 columns]\n"
     ]
    }
   ],
   "source": [
    "df_country = pd.read_csv('../data/raw/paises_cq_v4.csv', sep='|' , encoding='ANSI', header=None, skiprows=3, \n",
    "                          skip_blank_lines=True, skipinitialspace=True, names=column_names, \n",
    "                          dtype={'BOLETIM':str, 'P7':str, 'P7_MOTOR':str}, usecols=['BOLETIM', 'P7', 'P7_MOTOR'], nrows=100000)\n",
    "print(df_country)"
   ]
  },
  {
   "cell_type": "markdown",
   "metadata": {},
   "source": [
    "### Loading Dictionary"
   ]
  },
  {
   "cell_type": "code",
   "execution_count": 13,
   "metadata": {},
   "outputs": [
    {
     "data": {
      "text/html": [
       "<div>\n",
       "<style scoped>\n",
       "    .dataframe tbody tr th:only-of-type {\n",
       "        vertical-align: middle;\n",
       "    }\n",
       "\n",
       "    .dataframe tbody tr th {\n",
       "        vertical-align: top;\n",
       "    }\n",
       "\n",
       "    .dataframe thead th {\n",
       "        text-align: right;\n",
       "    }\n",
       "</style>\n",
       "<table border=\"1\" class=\"dataframe\">\n",
       "  <thead>\n",
       "    <tr style=\"text-align: right;\">\n",
       "      <th></th>\n",
       "      <th>CODE\tPAIS</th>\n",
       "    </tr>\n",
       "  </thead>\n",
       "  <tbody>\n",
       "    <tr>\n",
       "      <th>0</th>\n",
       "      <td>74\\tAFEGANISTAO</td>\n",
       "    </tr>\n",
       "    <tr>\n",
       "      <th>1</th>\n",
       "      <td>10\\tAFRICA DO SUL</td>\n",
       "    </tr>\n",
       "    <tr>\n",
       "      <th>2</th>\n",
       "      <td>73\\tALBANIA</td>\n",
       "    </tr>\n",
       "    <tr>\n",
       "      <th>3</th>\n",
       "      <td>50\\tALEMANHA</td>\n",
       "    </tr>\n",
       "    <tr>\n",
       "      <th>4</th>\n",
       "      <td>73\\tANDORRA</td>\n",
       "    </tr>\n",
       "  </tbody>\n",
       "</table>\n",
       "</div>"
      ],
      "text/plain": [
       "          CODE\\tPAIS\n",
       "0    74\\tAFEGANISTAO\n",
       "1  10\\tAFRICA DO SUL\n",
       "2        73\\tALBANIA\n",
       "3       50\\tALEMANHA\n",
       "4        73\\tANDORRA"
      ]
     },
     "execution_count": 13,
     "metadata": {},
     "output_type": "execute_result"
    }
   ],
   "source": [
    "df_dic_ine = pd.read_csv('../references/paises_ML.csv', sep=';', encoding='ANSI', skiprows=0, \n",
    "                          skip_blank_lines=True, skipinitialspace=True)\n",
    "df_dic_ine.head()"
   ]
  },
  {
   "cell_type": "markdown",
   "metadata": {},
   "source": [
    "### Preparing Data"
   ]
  },
  {
   "cell_type": "code",
   "execution_count": 5,
   "metadata": {},
   "outputs": [
    {
     "data": {
      "text/html": [
       "<div>\n",
       "<style scoped>\n",
       "    .dataframe tbody tr th:only-of-type {\n",
       "        vertical-align: middle;\n",
       "    }\n",
       "\n",
       "    .dataframe tbody tr th {\n",
       "        vertical-align: top;\n",
       "    }\n",
       "\n",
       "    .dataframe thead th {\n",
       "        text-align: right;\n",
       "    }\n",
       "</style>\n",
       "<table border=\"1\" class=\"dataframe\">\n",
       "  <thead>\n",
       "    <tr style=\"text-align: right;\">\n",
       "      <th></th>\n",
       "      <th>BOLETIM</th>\n",
       "      <th>P7</th>\n",
       "      <th>P7_MOTOR</th>\n",
       "    </tr>\n",
       "  </thead>\n",
       "  <tbody>\n",
       "    <tr>\n",
       "      <th>0</th>\n",
       "      <td>13831278</td>\n",
       "      <td>INDIA</td>\n",
       "      <td>INDIA</td>\n",
       "    </tr>\n",
       "    <tr>\n",
       "      <th>1</th>\n",
       "      <td>12944656</td>\n",
       "      <td>PAQUISTAO</td>\n",
       "      <td>PAQUESTAM</td>\n",
       "    </tr>\n",
       "    <tr>\n",
       "      <th>2</th>\n",
       "      <td>12944656</td>\n",
       "      <td>PAQUISTAO</td>\n",
       "      <td>PARVISTAO</td>\n",
       "    </tr>\n",
       "    <tr>\n",
       "      <th>3</th>\n",
       "      <td>31359429</td>\n",
       "      <td>ZAMBIANA</td>\n",
       "      <td>ZAMBIRNA</td>\n",
       "    </tr>\n",
       "    <tr>\n",
       "      <th>4</th>\n",
       "      <td>31359429</td>\n",
       "      <td>ZAMBIA</td>\n",
       "      <td>ZAMBIA</td>\n",
       "    </tr>\n",
       "  </tbody>\n",
       "</table>\n",
       "</div>"
      ],
      "text/plain": [
       "    BOLETIM         P7   P7_MOTOR\n",
       "0  13831278      INDIA      INDIA\n",
       "1  12944656  PAQUISTAO  PAQUESTAM\n",
       "2  12944656  PAQUISTAO  PARVISTAO\n",
       "3  31359429   ZAMBIANA   ZAMBIRNA\n",
       "4  31359429     ZAMBIA     ZAMBIA"
      ]
     },
     "execution_count": 5,
     "metadata": {},
     "output_type": "execute_result"
    }
   ],
   "source": [
    "df_country['P7_MOTOR'] = df_country['P7_MOTOR'].str.replace(\"-\", \" \")\n",
    "df_country['P7'] = df_country['P7'].str.replace(\"-\", \" \")\n",
    "\n",
    "#df_country['P7_MOTOR'] = df_country['P7_MOTOR'].apply(lambda x: x.strip())\n",
    "df_country = df_country.replace(r'\\s+', np.nan, regex=True)\n",
    "df_country.drop_duplicates(inplace=True)\n",
    "df_country.dropna(inplace=True)\n",
    "df_country.reset_index(drop=True,inplace=True)\n",
    "\n",
    "df_country.head()\n"
   ]
  },
  {
   "cell_type": "code",
   "execution_count": 6,
   "metadata": {},
   "outputs": [],
   "source": [
    "def check_distinct_values(str):\n",
    "    '''\n",
    "    Verify Characters frequency\n",
    "    parameters\n",
    "    ----------\n",
    "    str\n",
    "        string to analyse\n",
    "    returns\n",
    "    ----------\n",
    "    int\n",
    "        returns the number of distinct values from the received string.\n",
    "    '''\n",
    "    freq = {}\n",
    "    for character in str:\n",
    "        if (character.isalpha() == True):\n",
    "            freq[character] = str.count(character)\n",
    "    return len(freq)"
   ]
  },
  {
   "cell_type": "code",
   "execution_count": 7,
   "metadata": {},
   "outputs": [],
   "source": [
    "#Limpar entradas com menos de 3 chars alfanumericos\n",
    "n_alpha = df_country['P7'].apply(lambda x: sum(char.isalpha() for char in x))\n",
    "df_country = df_country.loc[n_alpha>3]\n",
    "\n",
    "n_alpha = df_country['P7_MOTOR'].apply(lambda x: sum(char.isalpha() for char in x))\n",
    "df_country = df_country.loc[n_alpha>3]\n",
    "    \n",
    "# Limpa tudo o que tenha menos de 3 str iguais\n",
    "n_beta = df_country['P7'].apply(lambda x: check_distinct_values(x))\n",
    "df_country = df_country.loc[n_beta>=3]\n",
    "\n",
    "n_beta = df_country['P7_MOTOR'].apply(lambda x: check_distinct_values(x))\n",
    "df_country = df_country.loc[n_beta>=3]"
   ]
  },
  {
   "cell_type": "markdown",
   "metadata": {},
   "source": [
    "### Data exploration"
   ]
  },
  {
   "cell_type": "code",
   "execution_count": 8,
   "metadata": {},
   "outputs": [
    {
     "data": {
      "text/html": [
       "<div>\n",
       "<style scoped>\n",
       "    .dataframe tbody tr th:only-of-type {\n",
       "        vertical-align: middle;\n",
       "    }\n",
       "\n",
       "    .dataframe tbody tr th {\n",
       "        vertical-align: top;\n",
       "    }\n",
       "\n",
       "    .dataframe thead th {\n",
       "        text-align: right;\n",
       "    }\n",
       "</style>\n",
       "<table border=\"1\" class=\"dataframe\">\n",
       "  <thead>\n",
       "    <tr style=\"text-align: right;\">\n",
       "      <th></th>\n",
       "      <th>P7</th>\n",
       "      <th>P7_MOTOR</th>\n",
       "      <th>CATEGORIZE_ID</th>\n",
       "    </tr>\n",
       "  </thead>\n",
       "  <tbody>\n",
       "    <tr>\n",
       "      <th>0</th>\n",
       "      <td>INDIA</td>\n",
       "      <td>INDIA</td>\n",
       "      <td>0</td>\n",
       "    </tr>\n",
       "    <tr>\n",
       "      <th>1</th>\n",
       "      <td>PAQUISTAO</td>\n",
       "      <td>PAQUESTAM</td>\n",
       "      <td>1</td>\n",
       "    </tr>\n",
       "    <tr>\n",
       "      <th>2</th>\n",
       "      <td>PAQUISTAO</td>\n",
       "      <td>PARVISTAO</td>\n",
       "      <td>1</td>\n",
       "    </tr>\n",
       "    <tr>\n",
       "      <th>3</th>\n",
       "      <td>ZAMBIANA</td>\n",
       "      <td>ZAMBIRNA</td>\n",
       "      <td>2</td>\n",
       "    </tr>\n",
       "    <tr>\n",
       "      <th>4</th>\n",
       "      <td>ZAMBIA</td>\n",
       "      <td>ZAMBIA</td>\n",
       "      <td>3</td>\n",
       "    </tr>\n",
       "  </tbody>\n",
       "</table>\n",
       "</div>"
      ],
      "text/plain": [
       "          P7   P7_MOTOR  CATEGORIZE_ID\n",
       "0      INDIA      INDIA              0\n",
       "1  PAQUISTAO  PAQUESTAM              1\n",
       "2  PAQUISTAO  PARVISTAO              1\n",
       "3   ZAMBIANA   ZAMBIRNA              2\n",
       "4     ZAMBIA     ZAMBIA              3"
      ]
     },
     "execution_count": 8,
     "metadata": {},
     "output_type": "execute_result"
    }
   ],
   "source": [
    "col = ['P7', 'P7_MOTOR']\n",
    "\n",
    "df_country_exp = df_country[col]\n",
    "\n",
    "df_country_exp = df_country_exp[pd.notnull(df_country_exp['P7_MOTOR'])]\n",
    "\n",
    "df_country_exp.columns = ['P7', 'P7_MOTOR'] #naming col\n",
    "\n",
    "df_country_exp['CATEGORIZE_ID'] = df_country_exp['P7'].factorize()[0] #groupby with numbers\n",
    "\n",
    "df_country_exp.head()"
   ]
  },
  {
   "cell_type": "code",
   "execution_count": 9,
   "metadata": {},
   "outputs": [],
   "source": [
    "category_id_df = df_country_exp[['P7', 'CATEGORIZE_ID']].drop_duplicates().sort_values('CATEGORIZE_ID')\n",
    "\n",
    "category_to_id = dict(category_id_df.values) # creating dic\n",
    "\n",
    "id_to_category = dict(category_id_df[['CATEGORIZE_ID', 'P7']].values) #dictionary with frequency per category"
   ]
  },
  {
   "cell_type": "markdown",
   "metadata": {},
   "source": [
    "### First Data Analysis"
   ]
  },
  {
   "cell_type": "code",
   "execution_count": 10,
   "metadata": {},
   "outputs": [
    {
     "data": {
      "image/png": "[encoded data removed]",
      "text/plain": [
       "<matplotlib.figure.Figure at 0x2088447fc18>"
      ]
     },
     "metadata": {},
     "output_type": "display_data"
    }
   ],
   "source": [
    "fig = plt.figure(figsize=(8,6))\n",
    "df_country.groupby('P7').P7_MOTOR.count().plot.bar(ylim=0)\n",
    "plt.show()"
   ]
  },
  {
   "cell_type": "code",
   "execution_count": 11,
   "metadata": {},
   "outputs": [
    {
     "data": {
      "text/plain": [
       "MOCAMBIQUE       1427\n",
       "ZIMBABWE         1380\n",
       "CONGO            1206\n",
       "MOCAMBICANA       657\n",
       "BURUNDI           615\n",
       "MOCAMBICANO       543\n",
       "NIGERIA           260\n",
       "NAMPULA           226\n",
       "SOMALIA           190\n",
       "GUINE             184\n",
       "MALI              168\n",
       "RUANDA            123\n",
       "BANGLADESH        113\n",
       "BANGLADES         104\n",
       "MALAWI             99\n",
       "MOCAMBIQU          84\n",
       "PAQUISTAO          80\n",
       "CHAPALA            67\n",
       "BANGLADEZ          67\n",
       "ZAMBEZIA           65\n",
       "BRAZIL             64\n",
       "CHINA              63\n",
       "NAMACURRA          62\n",
       "QUELIMANE          62\n",
       "TANZANIA           51\n",
       "INDIA              51\n",
       "NICOADALA          50\n",
       "MILANGE            48\n",
       "ZIMBABUE           44\n",
       "GAFARIA            42\n",
       "                 ... \n",
       "CHINYANJA           1\n",
       "PENTECOSTAL         1\n",
       "AUDICAO             1\n",
       "NAMRUPA             1\n",
       "BANGLASES           1\n",
       "BASISTA             1\n",
       "NIOGE               1\n",
       "TAQUANE             1\n",
       "PAQUIATAO           1\n",
       "MUIDUMBE            1\n",
       "PAQUISTANESES       1\n",
       "MUSEREMA            1\n",
       "MBABIBA             1\n",
       "MAGUE               1\n",
       "MOCAMBICANOO        1\n",
       "MBABIMA             1\n",
       "THANANDA            1\n",
       "ANCUABE             1\n",
       "NAMICO              1\n",
       "MULILE              1\n",
       "EMUNICA             1\n",
       "NAMAONDE            1\n",
       "VOLALO              1\n",
       "MOCAMBILANA         1\n",
       "CHINESES            1\n",
       "BAMALADESA          1\n",
       "ZEMBARBNE           1\n",
       "LIOMA               1\n",
       "CUIZOGUE            1\n",
       "QUILIMANE           1\n",
       "Name: P7, Length: 1169, dtype: int64"
      ]
     },
     "execution_count": 11,
     "metadata": {},
     "output_type": "execute_result"
    }
   ],
   "source": [
    "df_country['P7'].value_counts()"
   ]
  },
  {
   "cell_type": "markdown",
   "metadata": {},
   "source": [
    "### Treating Data"
   ]
  },
  {
   "cell_type": "markdown",
   "metadata": {},
   "source": [
    "#### most commun mistakes"
   ]
  },
  {
   "cell_type": "code",
   "execution_count": 12,
   "metadata": {},
   "outputs": [
    {
     "ename": "KeyError",
     "evalue": "'PAIS'",
     "output_type": "error",
     "traceback": [
      "\u001b[1;31m---------------------------------------------------------------------------\u001b[0m",
      "\u001b[1;31mKeyError\u001b[0m                                  Traceback (most recent call last)",
      "\u001b[1;32m~\\AppData\\Local\\Continuum\\miniconda3\\envs\\censos_mz\\lib\\site-packages\\pandas\\core\\indexes\\base.py\u001b[0m in \u001b[0;36mget_loc\u001b[1;34m(self, key, method, tolerance)\u001b[0m\n\u001b[0;32m   3077\u001b[0m             \u001b[1;32mtry\u001b[0m\u001b[1;33m:\u001b[0m\u001b[1;33m\u001b[0m\u001b[0m\n\u001b[1;32m-> 3078\u001b[1;33m                 \u001b[1;32mreturn\u001b[0m \u001b[0mself\u001b[0m\u001b[1;33m.\u001b[0m\u001b[0m_engine\u001b[0m\u001b[1;33m.\u001b[0m\u001b[0mget_loc\u001b[0m\u001b[1;33m(\u001b[0m\u001b[0mkey\u001b[0m\u001b[1;33m)\u001b[0m\u001b[1;33m\u001b[0m\u001b[0m\n\u001b[0m\u001b[0;32m   3079\u001b[0m             \u001b[1;32mexcept\u001b[0m \u001b[0mKeyError\u001b[0m\u001b[1;33m:\u001b[0m\u001b[1;33m\u001b[0m\u001b[0m\n",
      "\u001b[1;32mpandas\\_libs\\index.pyx\u001b[0m in \u001b[0;36mpandas._libs.index.IndexEngine.get_loc\u001b[1;34m()\u001b[0m\n",
      "\u001b[1;32mpandas\\_libs\\index.pyx\u001b[0m in \u001b[0;36mpandas._libs.index.IndexEngine.get_loc\u001b[1;34m()\u001b[0m\n",
      "\u001b[1;32mpandas\\_libs\\hashtable_class_helper.pxi\u001b[0m in \u001b[0;36mpandas._libs.hashtable.PyObjectHashTable.get_item\u001b[1;34m()\u001b[0m\n",
      "\u001b[1;32mpandas\\_libs\\hashtable_class_helper.pxi\u001b[0m in \u001b[0;36mpandas._libs.hashtable.PyObjectHashTable.get_item\u001b[1;34m()\u001b[0m\n",
      "\u001b[1;31mKeyError\u001b[0m: 'PAIS'",
      "\nDuring handling of the above exception, another exception occurred:\n",
      "\u001b[1;31mKeyError\u001b[0m                                  Traceback (most recent call last)",
      "\u001b[1;32m<ipython-input-12-6c6577f37c20>\u001b[0m in \u001b[0;36m<module>\u001b[1;34m()\u001b[0m\n\u001b[1;32m----> 1\u001b[1;33m \u001b[0mdf_not_quality_data\u001b[0m \u001b[1;33m=\u001b[0m \u001b[0mdf_country\u001b[0m\u001b[1;33m.\u001b[0m\u001b[0mloc\u001b[0m\u001b[1;33m[\u001b[0m\u001b[1;33m~\u001b[0m\u001b[0mdf_country\u001b[0m\u001b[1;33m[\u001b[0m\u001b[1;34m'P7'\u001b[0m\u001b[1;33m]\u001b[0m\u001b[1;33m.\u001b[0m\u001b[0misin\u001b[0m\u001b[1;33m(\u001b[0m\u001b[0mdf_dic_ine\u001b[0m\u001b[1;33m[\u001b[0m\u001b[1;34m'PAIS'\u001b[0m\u001b[1;33m]\u001b[0m\u001b[1;33m)\u001b[0m\u001b[1;33m]\u001b[0m \u001b[1;31m#df_country filtered by PAIS elements\u001b[0m\u001b[1;33m\u001b[0m\u001b[0m\n\u001b[0m\u001b[0;32m      2\u001b[0m \u001b[0mdf_not_quality_data\u001b[0m\u001b[1;33m.\u001b[0m\u001b[0mhead\u001b[0m\u001b[1;33m(\u001b[0m\u001b[1;33m)\u001b[0m\u001b[1;33m\u001b[0m\u001b[0m\n\u001b[0;32m      3\u001b[0m \u001b[0mdf_not_quality_data\u001b[0m\u001b[1;33m.\u001b[0m\u001b[0mto_csv\u001b[0m\u001b[1;33m(\u001b[0m\u001b[1;34m'df_not_quality_data.csv'\u001b[0m\u001b[1;33m,\u001b[0m \u001b[0msep\u001b[0m\u001b[1;33m=\u001b[0m\u001b[1;34m';'\u001b[0m\u001b[1;33m,\u001b[0m \u001b[0mencoding\u001b[0m\u001b[1;33m=\u001b[0m\u001b[1;34m'utf-8'\u001b[0m\u001b[1;33m)\u001b[0m\u001b[1;31m#learning with mistakes, nem csv\u001b[0m\u001b[1;33m\u001b[0m\u001b[0m\n",
      "\u001b[1;32m~\\AppData\\Local\\Continuum\\miniconda3\\envs\\censos_mz\\lib\\site-packages\\pandas\\core\\frame.py\u001b[0m in \u001b[0;36m__getitem__\u001b[1;34m(self, key)\u001b[0m\n\u001b[0;32m   2686\u001b[0m             \u001b[1;32mreturn\u001b[0m \u001b[0mself\u001b[0m\u001b[1;33m.\u001b[0m\u001b[0m_getitem_multilevel\u001b[0m\u001b[1;33m(\u001b[0m\u001b[0mkey\u001b[0m\u001b[1;33m)\u001b[0m\u001b[1;33m\u001b[0m\u001b[0m\n\u001b[0;32m   2687\u001b[0m         \u001b[1;32melse\u001b[0m\u001b[1;33m:\u001b[0m\u001b[1;33m\u001b[0m\u001b[0m\n\u001b[1;32m-> 2688\u001b[1;33m             \u001b[1;32mreturn\u001b[0m \u001b[0mself\u001b[0m\u001b[1;33m.\u001b[0m\u001b[0m_getitem_column\u001b[0m\u001b[1;33m(\u001b[0m\u001b[0mkey\u001b[0m\u001b[1;33m)\u001b[0m\u001b[1;33m\u001b[0m\u001b[0m\n\u001b[0m\u001b[0;32m   2689\u001b[0m \u001b[1;33m\u001b[0m\u001b[0m\n\u001b[0;32m   2690\u001b[0m     \u001b[1;32mdef\u001b[0m \u001b[0m_getitem_column\u001b[0m\u001b[1;33m(\u001b[0m\u001b[0mself\u001b[0m\u001b[1;33m,\u001b[0m \u001b[0mkey\u001b[0m\u001b[1;33m)\u001b[0m\u001b[1;33m:\u001b[0m\u001b[1;33m\u001b[0m\u001b[0m\n",
      "\u001b[1;32m~\\AppData\\Local\\Continuum\\miniconda3\\envs\\censos_mz\\lib\\site-packages\\pandas\\core\\frame.py\u001b[0m in \u001b[0;36m_getitem_column\u001b[1;34m(self, key)\u001b[0m\n\u001b[0;32m   2693\u001b[0m         \u001b[1;31m# get column\u001b[0m\u001b[1;33m\u001b[0m\u001b[1;33m\u001b[0m\u001b[0m\n\u001b[0;32m   2694\u001b[0m         \u001b[1;32mif\u001b[0m \u001b[0mself\u001b[0m\u001b[1;33m.\u001b[0m\u001b[0mcolumns\u001b[0m\u001b[1;33m.\u001b[0m\u001b[0mis_unique\u001b[0m\u001b[1;33m:\u001b[0m\u001b[1;33m\u001b[0m\u001b[0m\n\u001b[1;32m-> 2695\u001b[1;33m             \u001b[1;32mreturn\u001b[0m \u001b[0mself\u001b[0m\u001b[1;33m.\u001b[0m\u001b[0m_get_item_cache\u001b[0m\u001b[1;33m(\u001b[0m\u001b[0mkey\u001b[0m\u001b[1;33m)\u001b[0m\u001b[1;33m\u001b[0m\u001b[0m\n\u001b[0m\u001b[0;32m   2696\u001b[0m \u001b[1;33m\u001b[0m\u001b[0m\n\u001b[0;32m   2697\u001b[0m         \u001b[1;31m# duplicate columns & possible reduce dimensionality\u001b[0m\u001b[1;33m\u001b[0m\u001b[1;33m\u001b[0m\u001b[0m\n",
      "\u001b[1;32m~\\AppData\\Local\\Continuum\\miniconda3\\envs\\censos_mz\\lib\\site-packages\\pandas\\core\\generic.py\u001b[0m in \u001b[0;36m_get_item_cache\u001b[1;34m(self, item)\u001b[0m\n\u001b[0;32m   2487\u001b[0m         \u001b[0mres\u001b[0m \u001b[1;33m=\u001b[0m \u001b[0mcache\u001b[0m\u001b[1;33m.\u001b[0m\u001b[0mget\u001b[0m\u001b[1;33m(\u001b[0m\u001b[0mitem\u001b[0m\u001b[1;33m)\u001b[0m\u001b[1;33m\u001b[0m\u001b[0m\n\u001b[0;32m   2488\u001b[0m         \u001b[1;32mif\u001b[0m \u001b[0mres\u001b[0m \u001b[1;32mis\u001b[0m \u001b[1;32mNone\u001b[0m\u001b[1;33m:\u001b[0m\u001b[1;33m\u001b[0m\u001b[0m\n\u001b[1;32m-> 2489\u001b[1;33m             \u001b[0mvalues\u001b[0m \u001b[1;33m=\u001b[0m \u001b[0mself\u001b[0m\u001b[1;33m.\u001b[0m\u001b[0m_data\u001b[0m\u001b[1;33m.\u001b[0m\u001b[0mget\u001b[0m\u001b[1;33m(\u001b[0m\u001b[0mitem\u001b[0m\u001b[1;33m)\u001b[0m\u001b[1;33m\u001b[0m\u001b[0m\n\u001b[0m\u001b[0;32m   2490\u001b[0m             \u001b[0mres\u001b[0m \u001b[1;33m=\u001b[0m \u001b[0mself\u001b[0m\u001b[1;33m.\u001b[0m\u001b[0m_box_item_values\u001b[0m\u001b[1;33m(\u001b[0m\u001b[0mitem\u001b[0m\u001b[1;33m,\u001b[0m \u001b[0mvalues\u001b[0m\u001b[1;33m)\u001b[0m\u001b[1;33m\u001b[0m\u001b[0m\n\u001b[0;32m   2491\u001b[0m             \u001b[0mcache\u001b[0m\u001b[1;33m[\u001b[0m\u001b[0mitem\u001b[0m\u001b[1;33m]\u001b[0m \u001b[1;33m=\u001b[0m \u001b[0mres\u001b[0m\u001b[1;33m\u001b[0m\u001b[0m\n",
      "\u001b[1;32m~\\AppData\\Local\\Continuum\\miniconda3\\envs\\censos_mz\\lib\\site-packages\\pandas\\core\\internals.py\u001b[0m in \u001b[0;36mget\u001b[1;34m(self, item, fastpath)\u001b[0m\n\u001b[0;32m   4113\u001b[0m \u001b[1;33m\u001b[0m\u001b[0m\n\u001b[0;32m   4114\u001b[0m             \u001b[1;32mif\u001b[0m \u001b[1;32mnot\u001b[0m \u001b[0misna\u001b[0m\u001b[1;33m(\u001b[0m\u001b[0mitem\u001b[0m\u001b[1;33m)\u001b[0m\u001b[1;33m:\u001b[0m\u001b[1;33m\u001b[0m\u001b[0m\n\u001b[1;32m-> 4115\u001b[1;33m                 \u001b[0mloc\u001b[0m \u001b[1;33m=\u001b[0m \u001b[0mself\u001b[0m\u001b[1;33m.\u001b[0m\u001b[0mitems\u001b[0m\u001b[1;33m.\u001b[0m\u001b[0mget_loc\u001b[0m\u001b[1;33m(\u001b[0m\u001b[0mitem\u001b[0m\u001b[1;33m)\u001b[0m\u001b[1;33m\u001b[0m\u001b[0m\n\u001b[0m\u001b[0;32m   4116\u001b[0m             \u001b[1;32melse\u001b[0m\u001b[1;33m:\u001b[0m\u001b[1;33m\u001b[0m\u001b[0m\n\u001b[0;32m   4117\u001b[0m                 \u001b[0mindexer\u001b[0m \u001b[1;33m=\u001b[0m \u001b[0mnp\u001b[0m\u001b[1;33m.\u001b[0m\u001b[0marange\u001b[0m\u001b[1;33m(\u001b[0m\u001b[0mlen\u001b[0m\u001b[1;33m(\u001b[0m\u001b[0mself\u001b[0m\u001b[1;33m.\u001b[0m\u001b[0mitems\u001b[0m\u001b[1;33m)\u001b[0m\u001b[1;33m)\u001b[0m\u001b[1;33m[\u001b[0m\u001b[0misna\u001b[0m\u001b[1;33m(\u001b[0m\u001b[0mself\u001b[0m\u001b[1;33m.\u001b[0m\u001b[0mitems\u001b[0m\u001b[1;33m)\u001b[0m\u001b[1;33m]\u001b[0m\u001b[1;33m\u001b[0m\u001b[0m\n",
      "\u001b[1;32m~\\AppData\\Local\\Continuum\\miniconda3\\envs\\censos_mz\\lib\\site-packages\\pandas\\core\\indexes\\base.py\u001b[0m in \u001b[0;36mget_loc\u001b[1;34m(self, key, method, tolerance)\u001b[0m\n\u001b[0;32m   3078\u001b[0m                 \u001b[1;32mreturn\u001b[0m \u001b[0mself\u001b[0m\u001b[1;33m.\u001b[0m\u001b[0m_engine\u001b[0m\u001b[1;33m.\u001b[0m\u001b[0mget_loc\u001b[0m\u001b[1;33m(\u001b[0m\u001b[0mkey\u001b[0m\u001b[1;33m)\u001b[0m\u001b[1;33m\u001b[0m\u001b[0m\n\u001b[0;32m   3079\u001b[0m             \u001b[1;32mexcept\u001b[0m \u001b[0mKeyError\u001b[0m\u001b[1;33m:\u001b[0m\u001b[1;33m\u001b[0m\u001b[0m\n\u001b[1;32m-> 3080\u001b[1;33m                 \u001b[1;32mreturn\u001b[0m \u001b[0mself\u001b[0m\u001b[1;33m.\u001b[0m\u001b[0m_engine\u001b[0m\u001b[1;33m.\u001b[0m\u001b[0mget_loc\u001b[0m\u001b[1;33m(\u001b[0m\u001b[0mself\u001b[0m\u001b[1;33m.\u001b[0m\u001b[0m_maybe_cast_indexer\u001b[0m\u001b[1;33m(\u001b[0m\u001b[0mkey\u001b[0m\u001b[1;33m)\u001b[0m\u001b[1;33m)\u001b[0m\u001b[1;33m\u001b[0m\u001b[0m\n\u001b[0m\u001b[0;32m   3081\u001b[0m \u001b[1;33m\u001b[0m\u001b[0m\n\u001b[0;32m   3082\u001b[0m         \u001b[0mindexer\u001b[0m \u001b[1;33m=\u001b[0m \u001b[0mself\u001b[0m\u001b[1;33m.\u001b[0m\u001b[0mget_indexer\u001b[0m\u001b[1;33m(\u001b[0m\u001b[1;33m[\u001b[0m\u001b[0mkey\u001b[0m\u001b[1;33m]\u001b[0m\u001b[1;33m,\u001b[0m \u001b[0mmethod\u001b[0m\u001b[1;33m=\u001b[0m\u001b[0mmethod\u001b[0m\u001b[1;33m,\u001b[0m \u001b[0mtolerance\u001b[0m\u001b[1;33m=\u001b[0m\u001b[0mtolerance\u001b[0m\u001b[1;33m)\u001b[0m\u001b[1;33m\u001b[0m\u001b[0m\n",
      "\u001b[1;32mpandas\\_libs\\index.pyx\u001b[0m in \u001b[0;36mpandas._libs.index.IndexEngine.get_loc\u001b[1;34m()\u001b[0m\n",
      "\u001b[1;32mpandas\\_libs\\index.pyx\u001b[0m in \u001b[0;36mpandas._libs.index.IndexEngine.get_loc\u001b[1;34m()\u001b[0m\n",
      "\u001b[1;32mpandas\\_libs\\hashtable_class_helper.pxi\u001b[0m in \u001b[0;36mpandas._libs.hashtable.PyObjectHashTable.get_item\u001b[1;34m()\u001b[0m\n",
      "\u001b[1;32mpandas\\_libs\\hashtable_class_helper.pxi\u001b[0m in \u001b[0;36mpandas._libs.hashtable.PyObjectHashTable.get_item\u001b[1;34m()\u001b[0m\n",
      "\u001b[1;31mKeyError\u001b[0m: 'PAIS'"
     ]
    }
   ],
   "source": [
    "df_not_quality_data = df_country.loc[~df_country['P7'].isin(df_dic_ine['PAIS'])] #df_country filtered by PAIS elements\n",
    "df_not_quality_data.head()\n",
    "df_not_quality_data.to_csv('df_not_quality_data.csv', sep=';', encoding='utf-8')#learning with mistakes, nem csv\n"
   ]
  },
  {
   "cell_type": "markdown",
   "metadata": {},
   "source": [
    "#### Filtering P7 in order to have quality Data"
   ]
  },
  {
   "cell_type": "code",
   "execution_count": null,
   "metadata": {},
   "outputs": [],
   "source": [
    "df_quality_data = df_country.loc[df_country['P7'].isin(df_dic_ine['PAIS'])] #df_country filtered by PAIS elements\n",
    "df_quality_data.head()\n"
   ]
  },
  {
   "cell_type": "code",
   "execution_count": null,
   "metadata": {},
   "outputs": [],
   "source": [
    "df_quality_data['P7'].value_counts() #understanding the total quantaty"
   ]
  },
  {
   "cell_type": "markdown",
   "metadata": {},
   "source": [
    "### Working DataFrame"
   ]
  },
  {
   "cell_type": "code",
   "execution_count": null,
   "metadata": {},
   "outputs": [],
   "source": [
    "col = ['P7', 'P7_MOTOR']\n",
    "\n",
    "df_quality_data = df_quality_data[col]\n",
    "\n",
    "df_quality_data = df_quality_data[pd.notnull(df_quality_data['P7_MOTOR'])]\n",
    "\n",
    "df_quality_data.columns = ['P7', 'P7_MOTOR'] #naming col\n",
    "\n",
    "df_quality_data['CATEGORIZE_ID'] = df_quality_data['P7'].factorize()[0] #groupby with numbers\n",
    "\n",
    "df_quality_data.head()"
   ]
  },
  {
   "cell_type": "code",
   "execution_count": null,
   "metadata": {},
   "outputs": [],
   "source": [
    "category_id_df = df_quality_data[['P7', 'CATEGORIZE_ID']].drop_duplicates().sort_values('CATEGORIZE_ID')\n",
    "\n",
    "category_to_id = dict(category_id_df.values) # creating dic\n",
    "\n",
    "id_to_category = dict(category_id_df[['CATEGORIZE_ID', 'P7']].values) #dictionary with frequency per category"
   ]
  },
  {
   "cell_type": "markdown",
   "metadata": {},
   "source": [
    "### Testing with unique values"
   ]
  },
  {
   "cell_type": "markdown",
   "metadata": {},
   "source": [
    "### Text Representation"
   ]
  },
  {
   "cell_type": "code",
   "execution_count": null,
   "metadata": {},
   "outputs": [],
   "source": [
    "tfidf = TfidfVectorizer(analyzer='char', ngram_range=(1, 2)) #character in vector with ngrams of maximum of 2chars together\n",
    "\n",
    "features = tfidf.fit_transform(df_country['P7_MOTOR']).toarray() # making an array of % of frequency of every 2 chars (max)\n",
    "labels = df_country['P7']\n",
    "\n",
    "features.shape"
   ]
  },
  {
   "cell_type": "code",
   "execution_count": null,
   "metadata": {},
   "outputs": [],
   "source": [
    "N = 2\n",
    "\n",
    "for Type, category_id in sorted(category_to_id.items()):\n",
    "    features_chi2 = chi2(features, labels == Type)\n",
    "    \n",
    "    indices = np.argsort(features_chi2[0])\n",
    "  \n",
    "    feature_names = np.array(tfidf.get_feature_names())[indices]\n",
    "  \n",
    "    unigrams = [v for v in feature_names if len(v.split(' ')) == 1]\n",
    "      \n",
    "    bigrams = [v for v in feature_names if len(v.split(' ')) == 2]\n",
    "  \n",
    "    print(\"# '{}':\".format(Type))\n",
    "  \n",
    "    print(\"  . Most correlated unigrams:\\n. {}\".format('\\n. '.join(unigrams[-N:])))\n",
    "      \n",
    "    print(\"  . Most correlated bigrams:\\n. {}\".format('\\n. '.join(bigrams[-N:])))"
   ]
  },
  {
   "cell_type": "markdown",
   "metadata": {},
   "source": [
    "### Creating the model"
   ]
  },
  {
   "cell_type": "code",
   "execution_count": null,
   "metadata": {},
   "outputs": [],
   "source": [
    "X_train, X_test, y_train, y_test = train_test_split(df_quality_data['P7_MOTOR'], df_quality_data['P7'], random_state = 0) \n",
    "\n",
    "#stratify=df_country['P7']\n",
    "\n",
    "X_train_tfidf = tfidf.fit_transform(X_train) #matriz de freq\n",
    "\n",
    "clf = MultinomialNB().fit(X_train_tfidf, y_train)"
   ]
  },
  {
   "cell_type": "code",
   "execution_count": null,
   "metadata": {},
   "outputs": [],
   "source": [
    "print(clf.predict(tfidf.transform([\"america\"]))) #caso em que falha"
   ]
  },
  {
   "cell_type": "code",
   "execution_count": null,
   "metadata": {},
   "outputs": [],
   "source": [
    "fig = plt.figure(figsize=(8,6))\n",
    "df_quality_data.groupby('P7')['P7'].count().plot.bar(ylim=0)\n",
    "plt.show()"
   ]
  },
  {
   "cell_type": "markdown",
   "metadata": {},
   "source": [
    "### Balance Data"
   ]
  },
  {
   "cell_type": "code",
   "execution_count": null,
   "metadata": {},
   "outputs": [],
   "source": [
    "max_size = df_quality_data['P7'].value_counts().max()\n",
    "#max_size\n",
    "\n",
    "lst = [] #doing a list type: df\n",
    "\n",
    "for class_index, group in df_quality_data.groupby('P7'):#grouping and iterating(index) in that groups\n",
    "    \n",
    "    lst.append(group.sample(200, replace=True))#having a group downsample, replicanting data in that group in order to have the same values as the most sampling group\n",
    "    \n",
    "df_balanced = pd.concat(lst) #concating lists because we have a list of df\n",
    "\n",
    "features = tfidf.fit_transform(df_country['P7']).toarray()#?\n",
    "\n",
    "#Creating the graph\n",
    "labels = df_country['P7']\n",
    "\n",
    "fig = plt.figure(figsize=(8,6))\n",
    "df_balanced.groupby('P7').P7.count().plot.bar(ylim=0)\n",
    "plt.show()"
   ]
  },
  {
   "cell_type": "code",
   "execution_count": null,
   "metadata": {},
   "outputs": [],
   "source": [
    "X_train, X_test, y_train, y_test = train_test_split(df_quality_data['P7_MOTOR'], df_quality_data['P7'], random_state = 0)#stratify=df_country['P7']\n",
    "\n",
    "#X_train_tfidf = tfidf.fit_transform(X_train) #matriz de freq\n",
    "\n",
    "clf = MultinomialNB().fit(X_train_tfidf, y_train)"
   ]
  },
  {
   "cell_type": "code",
   "execution_count": null,
   "metadata": {},
   "outputs": [],
   "source": [
    "#print(clf.predict(tfidf.transform([\"S?MAL?A\"])))"
   ]
  },
  {
   "cell_type": "code",
   "execution_count": null,
   "metadata": {},
   "outputs": [],
   "source": [
    "#test\n",
    "linear_svc=LinearSVC()#The base estimator\n",
    "\n",
    "# This is the calibrated classifier which can give probabilistic classifier\n",
    "model=CalibratedClassifierCV(linear_svc,method ='sigmoid')"
   ]
  },
  {
   "cell_type": "code",
   "execution_count": null,
   "metadata": {},
   "outputs": [],
   "source": [
    "models = [\n",
    "    RandomForestClassifier(n_estimators=200, max_depth=3, random_state=0),\n",
    "    CalibratedClassifierCV(),\n",
    "    MultinomialNB(),\n",
    "    LogisticRegression(random_state=0),\n",
    "]\n",
    "\n",
    "\n",
    "CV = 5 #number of splits for cross-validation\n",
    "cv_df = pd.DataFrame(index=range(CV * len(models)))\n",
    "entries = []\n",
    "\n",
    "for model in models:\n",
    "    model_name = model.__class__.__name__ #aceder à classe, nome\n",
    "  \n",
    "    accuracies = cross_val_score(model, features, labels, scoring='accuracy', cv=CV)\n",
    "    \n",
    "    for fold_idx, accuracy in enumerate(accuracies):\n",
    "        entries.append((model_name, fold_idx, accuracy))#fold_idx = conj de cross val\n",
    "\n",
    "        \n",
    "cv_df = pd.DataFrame(entries, columns=['model_name', 'fold_idx', 'accuracy'])\n",
    "sns.boxplot(x='model_name', y='accuracy', data=cv_df)\n",
    "sns.stripplot(x='model_name', y='accuracy', data=cv_df, \n",
    "              size=8, jitter=True, edgecolor=\"gray\", linewidth=2)\n",
    "plt.show()"
   ]
  },
  {
   "cell_type": "code",
   "execution_count": null,
   "metadata": {},
   "outputs": [],
   "source": [
    "cv_df.groupby('model_name').accuracy.mean()"
   ]
  },
  {
   "cell_type": "markdown",
   "metadata": {},
   "source": [
    "### Model Evaluatuion"
   ]
  },
  {
   "cell_type": "code",
   "execution_count": null,
   "metadata": {},
   "outputs": [],
   "source": [
    "tfidf = TfidfVectorizer(analyzer='char', ngram_range=(1, 2)) #character in vector with ngrams of maximum of 2chars together\n",
    "\n",
    "features = tfidf.fit_transform(df_quality_data['P7_MOTOR']).toarray() # making an array of % of frequency of every 2 chars (max)\n",
    "\n",
    "labels = df_quality_data['P7']\n",
    "\n",
    "X_train, X_test, y_train, y_test, indices_train, indices_test = train_test_split(features, labels, df_quality_data.index, test_size=0.33, random_state=0)\n",
    "\n",
    "#linear_svc=LinearSVC()#The base estimator\n",
    "\n",
    "# This is the calibrated classifier which can give probabilistic classifier\n",
    "#model=CalibratedClassifierCV(linear_svc,method ='sigmoid')\n",
    "\n",
    "model.fit(X_train, y_train)\n",
    "\n",
    "y_pred = model.predict(X_test)\n",
    "\n",
    "conf_mat = confusion_matrix(y_test, y_pred)\n",
    "\n",
    "fig, ax = plt.subplots(figsize=(10,10))\n",
    "\n",
    "\n",
    "sns.heatmap(conf_mat, annot=True, fmt='d',\n",
    "            xticklabels=category_id_df.P7.values, yticklabels=category_id_df.P7.values)\n",
    "\n",
    "plt.ylabel('Actual')\n",
    "\n",
    "plt.xlabel('Predicted')\n",
    "\n",
    "plt.show()"
   ]
  },
  {
   "cell_type": "code",
   "execution_count": null,
   "metadata": {},
   "outputs": [],
   "source": [
    "print(metrics.classification_report(y_test, y_pred))"
   ]
  },
  {
   "cell_type": "code",
   "execution_count": null,
   "metadata": {},
   "outputs": [],
   "source": [
    "print(model.predict(tfidf.transform([\"?ME?ICA\"])))"
   ]
  },
  {
   "cell_type": "code",
   "execution_count": null,
   "metadata": {},
   "outputs": [],
   "source": []
  }
 ],
 "metadata": {
  "kernelspec": {
   "display_name": "pauta",
   "language": "python",
   "name": "python3"
  },
  "language_info": {
   "codemirror_mode": {
    "name": "ipython",
    "version": 3
   },
   "file_extension": ".py",
   "mimetype": "text/x-python",
   "name": "python",
   "nbconvert_exporter": "python",
   "pygments_lexer": "ipython3",
   "version": "3.7.2"
  }
 },
 "nbformat": 4,
 "nbformat_minor": 2
}
