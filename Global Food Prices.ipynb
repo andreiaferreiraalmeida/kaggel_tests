{
 "cells": [
  {
   "cell_type": "markdown",
   "metadata": {},
   "source": [
    "# Global Food Prices\n",
    "\n",
    "Understanding how xxxxx\n",
    "\n",
    "\n",
    "\n",
    "___________________________________________\n",
    "Author: Andreia Ferreira Almeida"
   ]
  },
  {
   "cell_type": "code",
   "execution_count": 1,
   "metadata": {},
   "outputs": [],
   "source": [
    "# Imports\n",
    "import os\n",
    "import pandas as pd\n",
    "import numpy as np\n",
    "\n",
    "\n",
    "import warnings\n",
    "warnings.filterwarnings('ignore')"
   ]
  },
  {
   "cell_type": "markdown",
   "metadata": {},
   "source": [
    "### Loading data"
   ]
  },
  {
   "cell_type": "code",
   "execution_count": 2,
   "metadata": {},
   "outputs": [
    {
     "name": "stdout",
     "output_type": "stream",
     "text": [
      "C:\\reps\\kaggel_tests\\wfp_market_food_prices.csv\n"
     ]
    }
   ],
   "source": [
    "proj_dir = os.path.dirname(os.path.abspath(\"wfp_market_food_prices.csv\"))\n",
    "data = os.path.join(proj_dir, \"wfp_market_food_prices.csv\")\n",
    "print(data)"
   ]
  },
  {
   "cell_type": "code",
   "execution_count": 3,
   "metadata": {},
   "outputs": [
    {
     "data": {
      "text/html": [
       "<div>\n",
       "<style scoped>\n",
       "    .dataframe tbody tr th:only-of-type {\n",
       "        vertical-align: middle;\n",
       "    }\n",
       "\n",
       "    .dataframe tbody tr th {\n",
       "        vertical-align: top;\n",
       "    }\n",
       "\n",
       "    .dataframe thead th {\n",
       "        text-align: right;\n",
       "    }\n",
       "</style>\n",
       "<table border=\"1\" class=\"dataframe\">\n",
       "  <thead>\n",
       "    <tr style=\"text-align: right;\">\n",
       "      <th></th>\n",
       "      <th>adm0_id</th>\n",
       "      <th>adm0_name</th>\n",
       "      <th>adm1_id</th>\n",
       "      <th>adm1_name</th>\n",
       "      <th>mkt_id</th>\n",
       "      <th>mkt_name</th>\n",
       "      <th>cm_id</th>\n",
       "      <th>cm_name</th>\n",
       "      <th>cur_id</th>\n",
       "      <th>cur_name</th>\n",
       "      <th>pt_id</th>\n",
       "      <th>pt_name</th>\n",
       "      <th>um_id</th>\n",
       "      <th>um_name</th>\n",
       "      <th>mp_month</th>\n",
       "      <th>mp_year</th>\n",
       "      <th>mp_price</th>\n",
       "      <th>mp_commoditysource</th>\n",
       "    </tr>\n",
       "  </thead>\n",
       "  <tbody>\n",
       "    <tr>\n",
       "      <th>0</th>\n",
       "      <td>1</td>\n",
       "      <td>Afghanistan</td>\n",
       "      <td>272</td>\n",
       "      <td>Badakhshan</td>\n",
       "      <td>266</td>\n",
       "      <td>Fayzabad</td>\n",
       "      <td>55</td>\n",
       "      <td>Bread</td>\n",
       "      <td>87</td>\n",
       "      <td>AFN</td>\n",
       "      <td>15</td>\n",
       "      <td>Retail</td>\n",
       "      <td>5</td>\n",
       "      <td>KG</td>\n",
       "      <td>1</td>\n",
       "      <td>2014</td>\n",
       "      <td>50.0</td>\n",
       "      <td>WFP</td>\n",
       "    </tr>\n",
       "    <tr>\n",
       "      <th>1</th>\n",
       "      <td>1</td>\n",
       "      <td>Afghanistan</td>\n",
       "      <td>272</td>\n",
       "      <td>Badakhshan</td>\n",
       "      <td>266</td>\n",
       "      <td>Fayzabad</td>\n",
       "      <td>55</td>\n",
       "      <td>Bread</td>\n",
       "      <td>87</td>\n",
       "      <td>AFN</td>\n",
       "      <td>15</td>\n",
       "      <td>Retail</td>\n",
       "      <td>5</td>\n",
       "      <td>KG</td>\n",
       "      <td>2</td>\n",
       "      <td>2014</td>\n",
       "      <td>50.0</td>\n",
       "      <td>WFP</td>\n",
       "    </tr>\n",
       "    <tr>\n",
       "      <th>2</th>\n",
       "      <td>1</td>\n",
       "      <td>Afghanistan</td>\n",
       "      <td>272</td>\n",
       "      <td>Badakhshan</td>\n",
       "      <td>266</td>\n",
       "      <td>Fayzabad</td>\n",
       "      <td>55</td>\n",
       "      <td>Bread</td>\n",
       "      <td>87</td>\n",
       "      <td>AFN</td>\n",
       "      <td>15</td>\n",
       "      <td>Retail</td>\n",
       "      <td>5</td>\n",
       "      <td>KG</td>\n",
       "      <td>3</td>\n",
       "      <td>2014</td>\n",
       "      <td>50.0</td>\n",
       "      <td>WFP</td>\n",
       "    </tr>\n",
       "    <tr>\n",
       "      <th>3</th>\n",
       "      <td>1</td>\n",
       "      <td>Afghanistan</td>\n",
       "      <td>272</td>\n",
       "      <td>Badakhshan</td>\n",
       "      <td>266</td>\n",
       "      <td>Fayzabad</td>\n",
       "      <td>55</td>\n",
       "      <td>Bread</td>\n",
       "      <td>87</td>\n",
       "      <td>AFN</td>\n",
       "      <td>15</td>\n",
       "      <td>Retail</td>\n",
       "      <td>5</td>\n",
       "      <td>KG</td>\n",
       "      <td>4</td>\n",
       "      <td>2014</td>\n",
       "      <td>50.0</td>\n",
       "      <td>WFP</td>\n",
       "    </tr>\n",
       "    <tr>\n",
       "      <th>4</th>\n",
       "      <td>1</td>\n",
       "      <td>Afghanistan</td>\n",
       "      <td>272</td>\n",
       "      <td>Badakhshan</td>\n",
       "      <td>266</td>\n",
       "      <td>Fayzabad</td>\n",
       "      <td>55</td>\n",
       "      <td>Bread</td>\n",
       "      <td>87</td>\n",
       "      <td>AFN</td>\n",
       "      <td>15</td>\n",
       "      <td>Retail</td>\n",
       "      <td>5</td>\n",
       "      <td>KG</td>\n",
       "      <td>5</td>\n",
       "      <td>2014</td>\n",
       "      <td>50.0</td>\n",
       "      <td>WFP</td>\n",
       "    </tr>\n",
       "  </tbody>\n",
       "</table>\n",
       "</div>"
      ],
      "text/plain": [
       "   adm0_id    adm0_name  adm1_id   adm1_name  mkt_id  mkt_name  cm_id cm_name  \\\n",
       "0        1  Afghanistan      272  Badakhshan     266  Fayzabad     55   Bread   \n",
       "1        1  Afghanistan      272  Badakhshan     266  Fayzabad     55   Bread   \n",
       "2        1  Afghanistan      272  Badakhshan     266  Fayzabad     55   Bread   \n",
       "3        1  Afghanistan      272  Badakhshan     266  Fayzabad     55   Bread   \n",
       "4        1  Afghanistan      272  Badakhshan     266  Fayzabad     55   Bread   \n",
       "\n",
       "   cur_id cur_name  pt_id pt_name  um_id um_name  mp_month  mp_year  mp_price  \\\n",
       "0      87      AFN     15  Retail      5      KG         1     2014      50.0   \n",
       "1      87      AFN     15  Retail      5      KG         2     2014      50.0   \n",
       "2      87      AFN     15  Retail      5      KG         3     2014      50.0   \n",
       "3      87      AFN     15  Retail      5      KG         4     2014      50.0   \n",
       "4      87      AFN     15  Retail      5      KG         5     2014      50.0   \n",
       "\n",
       "  mp_commoditysource  \n",
       "0                WFP  \n",
       "1                WFP  \n",
       "2                WFP  \n",
       "3                WFP  \n",
       "4                WFP  "
      ]
     },
     "execution_count": 3,
     "metadata": {},
     "output_type": "execute_result"
    }
   ],
   "source": [
    "#Loading Data\n",
    "gfp = pd.read_csv(data, engine='python')\n",
    "gfp.head() # historico do preço p localidade p o produto durante 5 meses"
   ]
  },
  {
   "cell_type": "markdown",
   "metadata": {},
   "source": [
    "cm_id = (comodity_purchase) - id do produto\n"
   ]
  },
  {
   "cell_type": "code",
   "execution_count": 4,
   "metadata": {},
   "outputs": [
    {
     "data": {
      "text/plain": [
       "(743914, 18)"
      ]
     },
     "execution_count": 4,
     "metadata": {},
     "output_type": "execute_result"
    }
   ],
   "source": [
    "gfp.shape"
   ]
  },
  {
   "cell_type": "markdown",
   "metadata": {},
   "source": [
    "### Data Treating"
   ]
  },
  {
   "cell_type": "code",
   "execution_count": 5,
   "metadata": {},
   "outputs": [],
   "source": [
    "#renameming cols\n",
    "gfp.columns = ['country_id', 'country_name', 'locality_id', 'locality_name', 'market_id', 'market_name', 'commodity_purchase_id', 'commodity_purchased', 'currency_id', 'currency', 'market_type_id', 'market_type', 'measurement_id', 'unit_of_goods_measurement', 'month_recorded', 'year_recorded','mp_price:_price_paid', 'source_supplying_price_information']\n",
    "gfp.columns = [x.upper() for x in gfp.columns] #inputing_uppercase"
   ]
  },
  {
   "cell_type": "code",
   "execution_count": 6,
   "metadata": {},
   "outputs": [],
   "source": [
    "#creating a list only with id cols\n",
    "id_final = [col for col in gfp.columns if col.endswith('_ID')] #removing_id_cols#1\n",
    "#droping id's col since doesnt add nothing to the analysis\n",
    "gfp.drop(id_final, axis=1, inplace=True)#2\n",
    "gfp.rename(columns={'MARKET_TYPE':'VENDOR_TYPE'}, inplace=True)\n",
    "gfp.rename(columns={'MARKET_NAME':'MARKET_SHOPS'}, inplace=True)"
   ]
  },
  {
   "cell_type": "code",
   "execution_count": 7,
   "metadata": {},
   "outputs": [
    {
     "data": {
      "text/html": [
       "<div>\n",
       "<style scoped>\n",
       "    .dataframe tbody tr th:only-of-type {\n",
       "        vertical-align: middle;\n",
       "    }\n",
       "\n",
       "    .dataframe tbody tr th {\n",
       "        vertical-align: top;\n",
       "    }\n",
       "\n",
       "    .dataframe thead th {\n",
       "        text-align: right;\n",
       "    }\n",
       "</style>\n",
       "<table border=\"1\" class=\"dataframe\">\n",
       "  <thead>\n",
       "    <tr style=\"text-align: right;\">\n",
       "      <th></th>\n",
       "      <th>COUNTRY_NAME</th>\n",
       "      <th>LOCALITY_NAME</th>\n",
       "      <th>MARKET_SHOPS</th>\n",
       "      <th>COMMODITY_PURCHASED</th>\n",
       "      <th>CURRENCY</th>\n",
       "      <th>VENDOR_TYPE</th>\n",
       "      <th>UNIT_OF_GOODS_MEASUREMENT</th>\n",
       "      <th>MONTH_RECORDED</th>\n",
       "      <th>YEAR_RECORDED</th>\n",
       "      <th>MP_PRICE:_PRICE_PAID</th>\n",
       "      <th>SOURCE_SUPPLYING_PRICE_INFORMATION</th>\n",
       "    </tr>\n",
       "  </thead>\n",
       "  <tbody>\n",
       "    <tr>\n",
       "      <th>0</th>\n",
       "      <td>Afghanistan</td>\n",
       "      <td>Badakhshan</td>\n",
       "      <td>Fayzabad</td>\n",
       "      <td>Bread</td>\n",
       "      <td>AFN</td>\n",
       "      <td>Retail</td>\n",
       "      <td>KG</td>\n",
       "      <td>1</td>\n",
       "      <td>2014</td>\n",
       "      <td>50.0</td>\n",
       "      <td>WFP</td>\n",
       "    </tr>\n",
       "    <tr>\n",
       "      <th>1</th>\n",
       "      <td>Afghanistan</td>\n",
       "      <td>Badakhshan</td>\n",
       "      <td>Fayzabad</td>\n",
       "      <td>Bread</td>\n",
       "      <td>AFN</td>\n",
       "      <td>Retail</td>\n",
       "      <td>KG</td>\n",
       "      <td>2</td>\n",
       "      <td>2014</td>\n",
       "      <td>50.0</td>\n",
       "      <td>WFP</td>\n",
       "    </tr>\n",
       "    <tr>\n",
       "      <th>2</th>\n",
       "      <td>Afghanistan</td>\n",
       "      <td>Badakhshan</td>\n",
       "      <td>Fayzabad</td>\n",
       "      <td>Bread</td>\n",
       "      <td>AFN</td>\n",
       "      <td>Retail</td>\n",
       "      <td>KG</td>\n",
       "      <td>3</td>\n",
       "      <td>2014</td>\n",
       "      <td>50.0</td>\n",
       "      <td>WFP</td>\n",
       "    </tr>\n",
       "    <tr>\n",
       "      <th>3</th>\n",
       "      <td>Afghanistan</td>\n",
       "      <td>Badakhshan</td>\n",
       "      <td>Fayzabad</td>\n",
       "      <td>Bread</td>\n",
       "      <td>AFN</td>\n",
       "      <td>Retail</td>\n",
       "      <td>KG</td>\n",
       "      <td>4</td>\n",
       "      <td>2014</td>\n",
       "      <td>50.0</td>\n",
       "      <td>WFP</td>\n",
       "    </tr>\n",
       "    <tr>\n",
       "      <th>4</th>\n",
       "      <td>Afghanistan</td>\n",
       "      <td>Badakhshan</td>\n",
       "      <td>Fayzabad</td>\n",
       "      <td>Bread</td>\n",
       "      <td>AFN</td>\n",
       "      <td>Retail</td>\n",
       "      <td>KG</td>\n",
       "      <td>5</td>\n",
       "      <td>2014</td>\n",
       "      <td>50.0</td>\n",
       "      <td>WFP</td>\n",
       "    </tr>\n",
       "  </tbody>\n",
       "</table>\n",
       "</div>"
      ],
      "text/plain": [
       "  COUNTRY_NAME LOCALITY_NAME MARKET_SHOPS COMMODITY_PURCHASED CURRENCY  \\\n",
       "0  Afghanistan    Badakhshan     Fayzabad               Bread      AFN   \n",
       "1  Afghanistan    Badakhshan     Fayzabad               Bread      AFN   \n",
       "2  Afghanistan    Badakhshan     Fayzabad               Bread      AFN   \n",
       "3  Afghanistan    Badakhshan     Fayzabad               Bread      AFN   \n",
       "4  Afghanistan    Badakhshan     Fayzabad               Bread      AFN   \n",
       "\n",
       "  VENDOR_TYPE UNIT_OF_GOODS_MEASUREMENT  MONTH_RECORDED  YEAR_RECORDED  \\\n",
       "0      Retail                        KG               1           2014   \n",
       "1      Retail                        KG               2           2014   \n",
       "2      Retail                        KG               3           2014   \n",
       "3      Retail                        KG               4           2014   \n",
       "4      Retail                        KG               5           2014   \n",
       "\n",
       "   MP_PRICE:_PRICE_PAID SOURCE_SUPPLYING_PRICE_INFORMATION  \n",
       "0                  50.0                                WFP  \n",
       "1                  50.0                                WFP  \n",
       "2                  50.0                                WFP  \n",
       "3                  50.0                                WFP  \n",
       "4                  50.0                                WFP  "
      ]
     },
     "execution_count": 7,
     "metadata": {},
     "output_type": "execute_result"
    }
   ],
   "source": [
    "gfp.head()"
   ]
  },
  {
   "cell_type": "code",
   "execution_count": 9,
   "metadata": {},
   "outputs": [
    {
     "name": "stdout",
     "output_type": "stream",
     "text": [
      "initial dataset size 743914\n",
      "final dataset size 16256\n"
     ]
    }
   ],
   "source": [
    "# create dataframe without year, month and price, to obtain one entry for each different shop\n",
    "gfp_unique_shop = gfp[['COUNTRY_NAME','LOCALITY_NAME','MARKET_SHOPS','VENDOR_TYPE', 'COMMODITY_PURCHASED', 'CURRENCY']]\n",
    "gfp_unique_shop.head()\n",
    "initialSize = gfp_unique_shop.shape[0]\n",
    "print(\"initial dataset size\", initialSize)\n",
    "gfp_unique_shop.drop_duplicates(inplace=True) # cair as colunas para poder analisar mercado único por país (mercados totais por pais)\n",
    "gfp_unique_shop.reset_index(inplace=True, drop=True) #após drop_duplicates always do a reset\n",
    "finalSize = gfp_unique_shop.shape[0]\n",
    "print(\"final dataset size\", finalSize)"
   ]
  },
  {
   "cell_type": "code",
   "execution_count": 10,
   "metadata": {},
   "outputs": [],
   "source": [
    "# renaming col in order to not misunderstand\n",
    "gfp_unique_shop.rename(columns={'MARKET_NAME':'MARKET_SHOPS'}, inplace=True)"
   ]
  },
  {
   "cell_type": "code",
   "execution_count": 11,
   "metadata": {
    "scrolled": true
   },
   "outputs": [
    {
     "name": "stdout",
     "output_type": "stream",
     "text": [
      "[COUNTRIES] Total Contries in the df 74\n"
     ]
    }
   ],
   "source": [
    "list_all_countries = gfp_unique_shop.groupby(by='COUNTRY_NAME')['COUNTRY_NAME'].nunique()\n",
    "print( '[COUNTRIES] Total Contries in the df', len(list_all_countries))"
   ]
  },
  {
   "cell_type": "code",
   "execution_count": 12,
   "metadata": {},
   "outputs": [
    {
     "name": "stdout",
     "output_type": "stream",
     "text": [
      "[MARKETS] Total markets in the df 1449\n"
     ]
    }
   ],
   "source": [
    "list_all_markets = gfp_unique_shop.groupby(by='MARKET_SHOPS')['MARKET_SHOPS'].nunique()\n",
    "print('[MARKETS] Total markets in the df', len(list_all_markets))"
   ]
  },
  {
   "cell_type": "code",
   "execution_count": 14,
   "metadata": {},
   "outputs": [],
   "source": [
    "#TOTAL DE LOJAS EM QUE O NOME DA LOJA É IGUAL À LOCALIDADE\n",
    "df_teste = gfp_unique_shop.loc[gfp_unique_shop['LOCALITY_NAME'] == gfp_unique_shop['MARKET_SHOPS']]"
   ]
  },
  {
   "cell_type": "code",
   "execution_count": 15,
   "metadata": {},
   "outputs": [],
   "source": [
    "#df groupby object, para passar p df, utiliza-se a função: .apply(list)\n",
    "df_teste_COUNTRY_2 = df_teste.groupby('COUNTRY_NAME').MARKET_SHOPS.apply(list)"
   ]
  },
  {
   "cell_type": "code",
   "execution_count": 16,
   "metadata": {},
   "outputs": [],
   "source": [
    "df_teste_COUNTRY_2 = df_teste_COUNTRY_2.to_frame()"
   ]
  },
  {
   "cell_type": "code",
   "execution_count": 17,
   "metadata": {},
   "outputs": [
    {
     "data": {
      "text/plain": [
       "pandas.core.frame.DataFrame"
      ]
     },
     "execution_count": 17,
     "metadata": {},
     "output_type": "execute_result"
    }
   ],
   "source": [
    "type(df_teste_COUNTRY_2)"
   ]
  },
  {
   "cell_type": "code",
   "execution_count": 18,
   "metadata": {},
   "outputs": [],
   "source": [
    "# listagem de todas as lojas diferentes em cada país\n",
    "df_teste_COUNTRY_2['COUNT_SHOPS_C'] = df_teste_COUNTRY_2['MARKET_SHOPS'].str.len()"
   ]
  },
  {
   "cell_type": "code",
   "execution_count": 22,
   "metadata": {},
   "outputs": [],
   "source": [
    "#tipos de comercio distinto\n",
    "df_types_shop = gfp.VENDOR_TYPE.unique()"
   ]
  },
  {
   "cell_type": "code",
   "execution_count": 23,
   "metadata": {},
   "outputs": [
    {
     "name": "stdout",
     "output_type": "stream",
     "text": [
      "['Retail' 'Wholesale' 'Producer' 'Farm Gate']\n"
     ]
    }
   ],
   "source": [
    "# type numpy.ndarray\n",
    "print(df_types_shop)"
   ]
  },
  {
   "cell_type": "code",
   "execution_count": 24,
   "metadata": {},
   "outputs": [],
   "source": [
    "#passing numpy.ndarray to a df\n",
    "df_unique_type_markets = pd.DataFrame(data=df_types_shop)    # values"
   ]
  },
  {
   "cell_type": "code",
   "execution_count": 25,
   "metadata": {},
   "outputs": [],
   "source": [
    "#inputing names in the cols\n",
    "df_unique_type_markets = df_unique_type_markets.rename(columns = {df_unique_type_markets.columns[0]:'VENDER_TYPE'})\n",
    "#, df_unique_type_markets.columns[1]:'MARKET_TYPES'"
   ]
  },
  {
   "cell_type": "code",
   "execution_count": 26,
   "metadata": {},
   "outputs": [
    {
     "data": {
      "text/html": [
       "<div>\n",
       "<style scoped>\n",
       "    .dataframe tbody tr th:only-of-type {\n",
       "        vertical-align: middle;\n",
       "    }\n",
       "\n",
       "    .dataframe tbody tr th {\n",
       "        vertical-align: top;\n",
       "    }\n",
       "\n",
       "    .dataframe thead th {\n",
       "        text-align: right;\n",
       "    }\n",
       "</style>\n",
       "<table border=\"1\" class=\"dataframe\">\n",
       "  <thead>\n",
       "    <tr style=\"text-align: right;\">\n",
       "      <th></th>\n",
       "      <th>VENDER_TYPE</th>\n",
       "    </tr>\n",
       "  </thead>\n",
       "  <tbody>\n",
       "    <tr>\n",
       "      <th>0</th>\n",
       "      <td>Retail</td>\n",
       "    </tr>\n",
       "    <tr>\n",
       "      <th>1</th>\n",
       "      <td>Wholesale</td>\n",
       "    </tr>\n",
       "    <tr>\n",
       "      <th>2</th>\n",
       "      <td>Producer</td>\n",
       "    </tr>\n",
       "    <tr>\n",
       "      <th>3</th>\n",
       "      <td>Farm Gate</td>\n",
       "    </tr>\n",
       "  </tbody>\n",
       "</table>\n",
       "</div>"
      ],
      "text/plain": [
       "  VENDER_TYPE\n",
       "0      Retail\n",
       "1   Wholesale\n",
       "2    Producer\n",
       "3   Farm Gate"
      ]
     },
     "execution_count": 26,
     "metadata": {},
     "output_type": "execute_result"
    }
   ],
   "source": [
    "df_unique_type_markets.head()"
   ]
  },
  {
   "cell_type": "code",
   "execution_count": 30,
   "metadata": {},
   "outputs": [
    {
     "data": {
      "text/html": [
       "<div>\n",
       "<style scoped>\n",
       "    .dataframe tbody tr th:only-of-type {\n",
       "        vertical-align: middle;\n",
       "    }\n",
       "\n",
       "    .dataframe tbody tr th {\n",
       "        vertical-align: top;\n",
       "    }\n",
       "\n",
       "    .dataframe thead th {\n",
       "        text-align: right;\n",
       "    }\n",
       "</style>\n",
       "<table border=\"1\" class=\"dataframe\">\n",
       "  <thead>\n",
       "    <tr style=\"text-align: right;\">\n",
       "      <th></th>\n",
       "      <th>MARKET_SHOPS</th>\n",
       "    </tr>\n",
       "    <tr>\n",
       "      <th>COUNTRY_NAME</th>\n",
       "      <th></th>\n",
       "    </tr>\n",
       "  </thead>\n",
       "  <tbody>\n",
       "    <tr>\n",
       "      <th>Afghanistan</th>\n",
       "      <td>11</td>\n",
       "    </tr>\n",
       "    <tr>\n",
       "      <th>Algeria</th>\n",
       "      <td>7</td>\n",
       "    </tr>\n",
       "    <tr>\n",
       "      <th>Armenia</th>\n",
       "      <td>6</td>\n",
       "    </tr>\n",
       "    <tr>\n",
       "      <th>Azerbaijan</th>\n",
       "      <td>1</td>\n",
       "    </tr>\n",
       "    <tr>\n",
       "      <th>Bangladesh</th>\n",
       "      <td>6</td>\n",
       "    </tr>\n",
       "  </tbody>\n",
       "</table>\n",
       "</div>"
      ],
      "text/plain": [
       "              MARKET_SHOPS\n",
       "COUNTRY_NAME              \n",
       "Afghanistan             11\n",
       "Algeria                  7\n",
       "Armenia                  6\n",
       "Azerbaijan               1\n",
       "Bangladesh               6"
      ]
     },
     "execution_count": 30,
     "metadata": {},
     "output_type": "execute_result"
    }
   ],
   "source": [
    "#mercados unicos por país\n",
    "mercados_seleccionados = gfp[['COUNTRY_NAME', 'LOCALITY_NAME', 'MARKET_SHOPS']]\n",
    "mercados_agrupados = mercados_seleccionados.groupby(['COUNTRY_NAME','MARKET_SHOPS']).nunique()\n",
    "mercados_agrupados = mercados_agrupados.drop(['LOCALITY_NAME', 'MARKET_SHOPS', 'COUNTRY_NAME'], axis=1)\n",
    "mercados_agrupados = mercados_agrupados.reset_index() #reseting index para poder usar a coluna country_name\n",
    "mercados_unicos = mercados_agrupados.groupby('COUNTRY_NAME')['MARKET_SHOPS'].count()\n",
    "mercados_unicos = mercados_unicos.to_frame()\n",
    "mercados_unicos.head()"
   ]
  },
  {
   "cell_type": "code",
   "execution_count": 32,
   "metadata": {},
   "outputs": [
    {
     "data": {
      "text/html": [
       "<div>\n",
       "<style scoped>\n",
       "    .dataframe tbody tr th:only-of-type {\n",
       "        vertical-align: middle;\n",
       "    }\n",
       "\n",
       "    .dataframe tbody tr th {\n",
       "        vertical-align: top;\n",
       "    }\n",
       "\n",
       "    .dataframe thead th {\n",
       "        text-align: right;\n",
       "    }\n",
       "</style>\n",
       "<table border=\"1\" class=\"dataframe\">\n",
       "  <thead>\n",
       "    <tr style=\"text-align: right;\">\n",
       "      <th></th>\n",
       "      <th>COUNTRY_NAME</th>\n",
       "      <th>MARKET_SHOPS</th>\n",
       "      <th>COUNT_COMMODITY</th>\n",
       "    </tr>\n",
       "  </thead>\n",
       "  <tbody>\n",
       "    <tr>\n",
       "      <th>0</th>\n",
       "      <td>Colombia</td>\n",
       "      <td>Bogota</td>\n",
       "      <td>54</td>\n",
       "    </tr>\n",
       "    <tr>\n",
       "      <th>1</th>\n",
       "      <td>Rwanda</td>\n",
       "      <td>Byumba</td>\n",
       "      <td>50</td>\n",
       "    </tr>\n",
       "    <tr>\n",
       "      <th>2</th>\n",
       "      <td>Rwanda</td>\n",
       "      <td>Kibirizi</td>\n",
       "      <td>49</td>\n",
       "    </tr>\n",
       "    <tr>\n",
       "      <th>3</th>\n",
       "      <td>Rwanda</td>\n",
       "      <td>Gikongoro</td>\n",
       "      <td>49</td>\n",
       "    </tr>\n",
       "    <tr>\n",
       "      <th>4</th>\n",
       "      <td>Rwanda</td>\n",
       "      <td>Nkora</td>\n",
       "      <td>49</td>\n",
       "    </tr>\n",
       "  </tbody>\n",
       "</table>\n",
       "</div>"
      ],
      "text/plain": [
       "  COUNTRY_NAME MARKET_SHOPS  COUNT_COMMODITY\n",
       "0     Colombia       Bogota               54\n",
       "1       Rwanda       Byumba               50\n",
       "2       Rwanda     Kibirizi               49\n",
       "3       Rwanda    Gikongoro               49\n",
       "4       Rwanda        Nkora               49"
      ]
     },
     "execution_count": 32,
     "metadata": {},
     "output_type": "execute_result"
    }
   ],
   "source": [
    "#nr total de produtos comercializados por mercado\n",
    "df_mercados_dif_pais = df_mercados_pais.copy()\n",
    "df_mercados_dif_pais = df_mercados_dif_pais.groupby(['COUNTRY_NAME','MARKET_SHOPS']).size().reset_index()\n",
    "df_mercados_dif_pais.rename(columns={0:'COUNT_COMMODITY'}, inplace=True) \n",
    "df_mercados_dif_pais = df_mercados_dif_pais.sort_values(by=['COUNT_COMMODITY'], ascending=False) # after a groupby reset_index\n",
    "df_mercados_dif_pais = df_mercados_dif_pais.reset_index(drop=True) #do not drop the index in order to keep the countries\n",
    "df_mercados_dif_pais.head()"
   ]
  },
  {
   "cell_type": "code",
   "execution_count": 33,
   "metadata": {},
   "outputs": [
    {
     "name": "stdout",
     "output_type": "stream",
     "text": [
      "média de produtos comercializados 11.0\n"
     ]
    }
   ],
   "source": [
    "#média de produtos comercializados\n",
    "print('média de produtos comercializados',df_mercados_dif_pais[\"COUNT_COMMODITY\"].mean())"
   ]
  },
  {
   "cell_type": "code",
   "execution_count": 34,
   "metadata": {},
   "outputs": [
    {
     "data": {
      "text/html": [
       "<div>\n",
       "<style scoped>\n",
       "    .dataframe tbody tr th:only-of-type {\n",
       "        vertical-align: middle;\n",
       "    }\n",
       "\n",
       "    .dataframe tbody tr th {\n",
       "        vertical-align: top;\n",
       "    }\n",
       "\n",
       "    .dataframe thead th {\n",
       "        text-align: right;\n",
       "    }\n",
       "</style>\n",
       "<table border=\"1\" class=\"dataframe\">\n",
       "  <thead>\n",
       "    <tr style=\"text-align: right;\">\n",
       "      <th></th>\n",
       "      <th>COUNTRY_NAME</th>\n",
       "      <th>COUNT_COMMODITY</th>\n",
       "    </tr>\n",
       "  </thead>\n",
       "  <tbody>\n",
       "    <tr>\n",
       "      <th>0</th>\n",
       "      <td>Turkey</td>\n",
       "      <td>44.000000</td>\n",
       "    </tr>\n",
       "    <tr>\n",
       "      <th>1</th>\n",
       "      <td>Rwanda</td>\n",
       "      <td>40.460317</td>\n",
       "    </tr>\n",
       "    <tr>\n",
       "      <th>2</th>\n",
       "      <td>State of Palestine</td>\n",
       "      <td>30.727273</td>\n",
       "    </tr>\n",
       "    <tr>\n",
       "      <th>3</th>\n",
       "      <td>Jordan</td>\n",
       "      <td>27.692308</td>\n",
       "    </tr>\n",
       "    <tr>\n",
       "      <th>4</th>\n",
       "      <td>Tajikistan</td>\n",
       "      <td>25.333333</td>\n",
       "    </tr>\n",
       "  </tbody>\n",
       "</table>\n",
       "</div>"
      ],
      "text/plain": [
       "         COUNTRY_NAME  COUNT_COMMODITY\n",
       "0              Turkey        44.000000\n",
       "1              Rwanda        40.460317\n",
       "2  State of Palestine        30.727273\n",
       "3              Jordan        27.692308\n",
       "4          Tajikistan        25.333333"
      ]
     },
     "execution_count": 34,
     "metadata": {},
     "output_type": "execute_result"
    }
   ],
   "source": [
    "#média de produtos por pais\n",
    "media_prod_pais = df_mercados_dif_pais.groupby('COUNTRY_NAME')[\"COUNT_COMMODITY\"].mean()\n",
    "media_prod_pais = media_prod_pais.sort_values(ascending=False).reset_index()\n",
    "media_prod_pais.head() "
   ]
  },
  {
   "cell_type": "code",
   "execution_count": 36,
   "metadata": {},
   "outputs": [
    {
     "data": {
      "text/plain": [
       "Maize                                            457\n",
       "Rice (imported)                                  449\n",
       "Sorghum                                          430\n",
       "Rice (local)                                     419\n",
       "Sugar                                            411\n",
       "Rice                                             382\n",
       "Wheat flour                                      367\n",
       "Millet                                           362\n",
       "Fuel (diesel)                                    337\n",
       "Groundnuts (shelled)                             279\n",
       "Eggs                                             269\n",
       "Maize (white)                                    257\n",
       "Wheat                                            248\n",
       "Tomatoes                                         247\n",
       "Fuel (petrol-gasoline)                           233\n",
       "Meat (beef)                                      214\n",
       "Oil (palm)                                       205\n",
       "Onions                                           202\n",
       "Beans (niebe)                                    196\n",
       "Potatoes                                         194\n",
       "Oil (vegetable)                                  192\n",
       "Salt                                             188\n",
       "Lentils                                          187\n",
       "Cabbage                                          179\n",
       "Beans (dry)                                      172\n",
       "Carrots                                          166\n",
       "Oil (sunflower)                                  155\n",
       "Beans                                            144\n",
       "Cassava                                          143\n",
       "Pasta                                            128\n",
       "                                                ... \n",
       "Broccoli                                           3\n",
       "Potatoes (unica)                                   3\n",
       "Beans (red, fresh)                                 3\n",
       "Groundnuts                                         3\n",
       "Livestock (goat, medium-sized castrated male)      2\n",
       "Tamarillos/tree tomatoes                           2\n",
       "Rice (medium grain)                                2\n",
       "Rice (good quality)                                2\n",
       "Rice (carolina 2da)                                1\n",
       "Eggs (imported)                                    1\n",
       "Meat (chicken, imported)                           1\n",
       "Tortilla (maize)                                   1\n",
       "Meat (beef, without bones)                         1\n",
       "Oil (mixed)                                        1\n",
       "Beans (sugar)                                      1\n",
       "Bread (common)                                     1\n",
       "Groundnuts (paste)                                 1\n",
       "Maize flour (white)                                1\n",
       "Meat (chicken, broiler)                            1\n",
       "Meat (veal)                                        1\n",
       "Milk (powder, infant formula)                      1\n",
       "Potatoes (black)                                   1\n",
       "Chili (green)                                      1\n",
       "Yam (Abuja)                                        1\n",
       "Milk (condensed)                                   1\n",
       "Sorghum (berbere)                                  1\n",
       "Cotton                                             1\n",
       "Ghee (natural)                                     1\n",
       "Cocoa (powder, not sweetened)                      1\n",
       "Milk (cow, pasteurized)                            1\n",
       "Name: COMMODITY_PURCHASED, Length: 321, dtype: int64"
      ]
     },
     "execution_count": 36,
     "metadata": {},
     "output_type": "execute_result"
    }
   ],
   "source": [
    "#% commodity geral\n",
    "df = gfp_unique_shop['COMMODITY_PURCHASED'].value_counts()\n",
    "df"
   ]
  },
  {
   "cell_type": "code",
   "execution_count": 47,
   "metadata": {},
   "outputs": [
    {
     "data": {
      "text/plain": [
       "Retail       15311\n",
       "Wholesale      918\n",
       "Farm Gate       14\n",
       "Producer        13\n",
       "Name: VENDOR_TYPE, dtype: int64"
      ]
     },
     "execution_count": 47,
     "metadata": {},
     "output_type": "execute_result"
    }
   ],
   "source": [
    "#vendor geral\n",
    "df2 = gfp_unique_shop['VENDOR_TYPE'].value_counts()\n",
    "df2"
   ]
  },
  {
   "cell_type": "code",
   "execution_count": 39,
   "metadata": {},
   "outputs": [
    {
     "data": {
      "text/plain": [
       "VENDOR_TYPE\n",
       "Farm Gate       664\n",
       "Producer        228\n",
       "Retail       688878\n",
       "Wholesale     54144\n",
       "dtype: int64"
      ]
     },
     "execution_count": 39,
     "metadata": {},
     "output_type": "execute_result"
    }
   ],
   "source": [
    "#nr total de comercio global\n",
    "df_com_global = gfp.groupby('VENDOR_TYPE').size()\n",
    "df_com_global.head()\n",
    "\n",
    "#GFP entrada de um produto repetida por vários meses"
   ]
  },
  {
   "cell_type": "code",
   "execution_count": 40,
   "metadata": {},
   "outputs": [],
   "source": [
    "#out_put_analysis\n",
    "#path_output = os.path.join(proj_dir, 'analysis.csv')\n",
    "#df_mercados_pais.to_csv(path_output, sep='|', encoding='utf-8')"
   ]
  },
  {
   "cell_type": "code",
   "execution_count": null,
   "metadata": {},
   "outputs": [],
   "source": []
  },
  {
   "cell_type": "code",
   "execution_count": null,
   "metadata": {},
   "outputs": [],
   "source": []
  }
 ],
 "metadata": {
  "kernelspec": {
   "display_name": "pauta",
   "language": "python",
   "name": "python3"
  },
  "language_info": {
   "codemirror_mode": {
    "name": "ipython",
    "version": 3
   },
   "file_extension": ".py",
   "mimetype": "text/x-python",
   "name": "python",
   "nbconvert_exporter": "python",
   "pygments_lexer": "ipython3",
   "version": "3.7.2"
  },
  "toc": {
   "base_numbering": 1,
   "nav_menu": {},
   "number_sections": true,
   "sideBar": true,
   "skip_h1_title": false,
   "title_cell": "Table of Contents",
   "title_sidebar": "Contents",
   "toc_cell": false,
   "toc_position": {},
   "toc_section_display": true,
   "toc_window_display": false
  },
  "varInspector": {
   "cols": {
    "lenName": 16,
    "lenType": 16,
    "lenVar": 40
   },
   "kernels_config": {
    "python": {
     "delete_cmd_postfix": "",
     "delete_cmd_prefix": "del ",
     "library": "var_list.py",
     "varRefreshCmd": "print(var_dic_list())"
    },
    "r": {
     "delete_cmd_postfix": ") ",
     "delete_cmd_prefix": "rm(",
     "library": "var_list.r",
     "varRefreshCmd": "cat(var_dic_list()) "
    }
   },
   "types_to_exclude": [
    "module",
    "function",
    "builtin_function_or_method",
    "instance",
    "_Feature"
   ],
   "window_display": false
  }
 },
 "nbformat": 4,
 "nbformat_minor": 2
}
